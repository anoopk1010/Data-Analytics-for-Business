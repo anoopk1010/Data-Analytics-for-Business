{
 "cells": [
  {
   "cell_type": "code",
   "execution_count": 7,
   "metadata": {},
   "outputs": [],
   "source": [
    "import numpy as np\n",
    "import pandas as pd"
   ]
  },
  {
   "cell_type": "markdown",
   "metadata": {},
   "source": [
    "#Data Cleaning\n",
    "\n",
    "Three dataframes are loaded; \"stocks\" which contains data for each S&P500 company ticker, \"ffer\" which contains data for the federal funds effective rate, and \"sp500\" which contains data for the S&P500 as a whole. The following operations are performed to format data for analysis:\n",
    "\n",
    "- \"ffer\" and \"sp500\" are downloaded in a format with date ranges from 2013-02-08 to 2018-02-07 to match the range of \"stocks\".\n",
    "- \"sp500\" by default is downloaded as string datatypes and thus must be converted to numeric datatypes.\n",
    "- All three dataframes have their date columns refactored to a datetime index.\n",
    "- 29 of the 505 tickers in \"stocks\" don't span the full range of dates and are dropped from the analysis.\n"
   ]
  },
  {
   "cell_type": "code",
   "execution_count": 8,
   "metadata": {},
   "outputs": [
    {
     "name": "stdout",
     "output_type": "stream",
     "text": [
      "Incomplete data for ticker ALLE, dropping ticker\n",
      "Incomplete data for ticker APTV, dropping ticker\n",
      "Incomplete data for ticker BHF, dropping ticker\n",
      "Incomplete data for ticker BHGE, dropping ticker\n",
      "Incomplete data for ticker CFG, dropping ticker\n",
      "Incomplete data for ticker COTY, dropping ticker\n",
      "Incomplete data for ticker CSRA, dropping ticker\n",
      "Incomplete data for ticker DWDP, dropping ticker\n",
      "Incomplete data for ticker DXC, dropping ticker\n",
      "Incomplete data for ticker EVHC, dropping ticker\n",
      "Incomplete data for ticker FOXA, dropping ticker\n",
      "Incomplete data for ticker FOX, dropping ticker\n",
      "Incomplete data for ticker FTV, dropping ticker\n",
      "Incomplete data for ticker GOOG, dropping ticker\n",
      "Incomplete data for ticker HLT, dropping ticker\n",
      "Incomplete data for ticker HPE, dropping ticker\n",
      "Incomplete data for ticker HPQ, dropping ticker\n",
      "Incomplete data for ticker INFO, dropping ticker\n",
      "Incomplete data for ticker IQV, dropping ticker\n",
      "Incomplete data for ticker KHC, dropping ticker\n",
      "Incomplete data for ticker NAVI, dropping ticker\n",
      "Incomplete data for ticker NWSA, dropping ticker\n",
      "Incomplete data for ticker NWS, dropping ticker\n",
      "Incomplete data for ticker PYPL, dropping ticker\n",
      "Incomplete data for ticker QRVO, dropping ticker\n",
      "Incomplete data for ticker SYF, dropping ticker\n",
      "Incomplete data for ticker UA, dropping ticker\n",
      "Incomplete data for ticker WLTW, dropping ticker\n",
      "Incomplete data for ticker WRK, dropping ticker\n"
     ]
    }
   ],
   "source": [
    "#Csv is too large to upload directly, so it was split into two files and concatenated in code\n",
    "stocks = pd.read_csv('../Data/all_stocks_5yr.csv', index_col='date', parse_dates=['date'])\n",
    "ffer = pd.read_csv('../Data/FEDFUNDS.csv', index_col='DATE', parse_dates=['DATE'])\n",
    "#Conversion functions for string columns\n",
    "sp500_conversion = {\n",
    "    'Price':lambda x: pd.to_numeric(x.replace(',','')),\n",
    "    'Open':lambda x: pd.to_numeric(x.replace(',','')),\n",
    "    'High':lambda x: pd.to_numeric(x.replace(',','')),\n",
    "    'Low':lambda x: pd.to_numeric(x.replace(',','')),\n",
    "    'Change %':lambda x: pd.to_numeric(x.strip('%'))\n",
    "}\n",
    "sp500 = pd.read_csv('../Data/S&P 500 Historical Data.csv', converters=sp500_conversion, index_col='Date', parse_dates=['Date']).drop(['Vol.'], axis=1)[::-1]\n",
    "\n",
    "start_date = np.Datetime64('2013-02-08')\n",
    "stocks.head()\n",
    "#Add returns columns and convert to monthly returns for sp500 and stocks\n",
    "for ticker in stocks['Name'].unique():\n",
    "    if start_date not in stocks[stocks['Name'] == ticker].index:\n",
    "        print(f'Incomplete data for ticker {ticker}, dropping ticker')\n",
    "        stocks = stocks[stocks['Name'] != ticker]"
   ]
  },
  {
   "cell_type": "code",
   "execution_count": 9,
   "metadata": {},
   "outputs": [],
   "source": [
    "stocks.to_csv('../Data/all_stocks_5yr_clean.csv')\n",
    "ffer.to_csv('../Data/FEDFUNDS_clean.csv')\n",
    "sp500.to_csv('../Data/S&P_500_Historical_Data_clean.csv')"
   ]
  },
  {
   "cell_type": "code",
   "execution_count": null,
   "metadata": {},
   "outputs": [],
   "source": []
  }
 ],
 "metadata": {
  "kernelspec": {
   "display_name": "base",
   "language": "python",
   "name": "python3"
  },
  "language_info": {
   "codemirror_mode": {
    "name": "ipython",
    "version": 3
   },
   "file_extension": ".py",
   "mimetype": "text/x-python",
   "name": "python",
   "nbconvert_exporter": "python",
   "pygments_lexer": "ipython3",
   "version": "3.9.12"
  }
 },
 "nbformat": 4,
 "nbformat_minor": 2
}
